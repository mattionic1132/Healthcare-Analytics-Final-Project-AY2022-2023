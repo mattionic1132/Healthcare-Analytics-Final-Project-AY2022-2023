{
 "cells": [
  {
   "cell_type": "code",
   "execution_count": 1,
   "metadata": {},
   "outputs": [],
   "source": [
    "import tkinter as tk\n",
    "from tkinter import ttk\n",
    "from tkinter import *\n",
    "from PIL import Image, ImageTk\n",
    "import keras\n",
    "import pickle\n",
    "import pandas as pd"
   ]
  },
  {
   "cell_type": "markdown",
   "metadata": {},
   "source": [
    "## Information Page"
   ]
  },
  {
   "cell_type": "code",
   "execution_count": 5,
   "metadata": {},
   "outputs": [],
   "source": [
    "# Create a page describing the Pima Indians Diabetes dataset used \n",
    "\n",
    "def description():\n",
    "    infoWindow = tk.Toplevel(bg='#D2D2B4')\n",
    "    infoWindow.resizable(False, False)\n",
    "    infoWindow.geometry('660x500')\n",
    "    #Display predictor variables and various units of measurements\n",
    "    infoWindow.title(\"Description of Features\")\n",
    "    Label(infoWindow, text = \"Predictor Variables:\",font=('Helvetica', 13),bg='#D2D2B4').pack(side= TOP, anchor=\"w\")\n",
    "    Label(infoWindow, text = \"1. Times Pregnant (Count)\",font=('Helvetica', 13),bg='#D2D2B4').pack(side= TOP, anchor=\"w\")\n",
    "    Label(infoWindow, text = \"2. Plasma Glucose Concentration (mg/dL)\",font=('Helvetica', 13),bg='#D2D2B4').pack(side= TOP, anchor=\"w\")\n",
    "    Label(infoWindow, text = \"3. Diastolic Blood Pressure (mmHg)\",font=('Helvetica', 13),bg='#D2D2B4').pack(side= TOP, anchor=\"w\")\n",
    "    Label(infoWindow, text = \"4. Triceps Skin Fold Thickness (mm)\",font=('Helvetica', 13),bg='#D2D2B4').pack(side= TOP, anchor=\"w\")\n",
    "    Label(infoWindow, text = \"5. 2-hour Serum Insulin (mcIU/mL)\",font=('Helvetica', 13),bg='#D2D2B4').pack(side= TOP, anchor=\"w\")\n",
    "    Label(infoWindow, text = \"6. Body Mass Index (BMI)\",font=('Helvetica', 13),bg='#D2D2B4').pack(side= TOP, anchor=\"w\")\n",
    "    Label(infoWindow, text = \"7. Diabetes Pedigree Function\",font=('Helvetica', 13),bg='#D2D2B4').pack(side= TOP, anchor=\"w\")\n",
    "    Label(infoWindow, text = \"8. Age (Years)\",font=('Helvetica', 13),bg='#D2D2B4').pack(side= TOP, anchor=\"w\")\n",
    "    Label(infoWindow, text = \"      \",font=('Helvetica', 13),bg='#D2D2B4').pack(side= TOP, anchor=\"w\") #create spacing\n",
    "    Label(infoWindow, text = \"Target Variable:\",font=('Helvetica', 13),bg='#D2D2B4').pack(side= TOP, anchor=\"w\")\n",
    "    Label(infoWindow, text = \"9. Outcome (0 or 1)\",font=('Helvetica', 13),bg='#D2D2B4').pack(side= TOP, anchor=\"w\")\n",
    "    Label(infoWindow, text = \"      \",font=('Helvetica', 13),bg='#D2D2B4').pack(side= TOP, anchor=\"w\") #create spacing\n",
    "    Label(infoWindow, text = \"Description of Dataset:\",font=('Helvetica', 13),bg='#D2D2B4').pack(side= TOP, anchor=\"w\")\n",
    "    Label(infoWindow, text = \"The dataset used for this project, which included 768 instances and 8 numerical features \\n was taken from the UCI machine learning repository.\\nNative Americans known as Pima Indians reside in Arizona, the USA, and Mexico. \\nIt was determined that this group's incidence of diabetes mellitus was high. \\nAs a result, research on them was believed to be important and reflective of global health.\",font=('Helvetica', 13),bg='#D2D2B4').pack(side= TOP, anchor=\"w\")\n",
    "    \n",
    "    #Exit the page when the Exit button is pressed\n",
    "    exit_button = Button(infoWindow, text=\"Exit\",bg='#FFFFEF', fg = \"black\",font=('Helvetica', 13),command=infoWindow.destroy).pack()"
   ]
  },
  {
   "cell_type": "markdown",
   "metadata": {},
   "source": [
    "## Prediction Page (SVM)"
   ]
  },
  {
   "cell_type": "code",
   "execution_count": 6,
   "metadata": {},
   "outputs": [],
   "source": [
    "def PredictionSVM():\n",
    "    \n",
    "    predWindow = tk.Toplevel()\n",
    "    predWindow.config(bg='#D2D2B4')\n",
    "    predWindow.resizable(False, False)\n",
    "    predWindow.geometry('600x500')\n",
    "    predWindow.title(\"Diabetes Prediction System\")\n",
    "    label = Label(predWindow, text = \"Please Enter Values: \"\n",
    "                              ,bg='#D2D2B4', fg = \"black\",font=('Helvetica',16 )). \\\n",
    "                                   grid(row=0,columnspan=2)\n",
    "    \n",
    "    \n",
    "    Label(predWindow, text=\"Times Pregnant (Count)\",font=('Helvetica', 13),bg='#D2D2B4').grid(row=5)\n",
    "    Label(predWindow, text=\"Plasma Glucose Concentration (mg/dL)\",font=('Helvetica', 13),bg='#D2D2B4').grid(row=6)\n",
    "    Label(predWindow, text=\"Diastolic Blood Pressure (mmHg)\",font=('Helvetica', 13),bg='#D2D2B4').grid(row=7)\n",
    "    Label(predWindow, text=\"Triceps Skin Fold Thickness (mm)\",font=('Helvetica', 13),bg='#D2D2B4').grid(row=8)\n",
    "    Label(predWindow, text=\"2-hour Serum Insulin (mcIU/mL)\",font=('Helvetica', 13),bg='#D2D2B4').grid(row=9)\n",
    "    Label(predWindow, text=\"Body Mass Index (BMI)\",font=('Helvetica', 13),bg='#D2D2B4').grid(row=10)\n",
    "    Label(predWindow, text=\"Diabetes Pedigree Function\",font=('Helvetica', 13),bg='#D2D2B4').grid(row=11)\n",
    "    Label(predWindow, text=\"Age (Years)\",font=('Helvetica', 13),bg='#D2D2B4').grid(row=12)\n",
    "    Label(predWindow, text=\"Spacing\",fg = \"#D2D2B4\",font=('Helvetica', 13),bg='#D2D2B4').grid(row=13)\n",
    "    \n",
    "    #Create entry boxes for input of data\n",
    "    e1 = Entry(predWindow)\n",
    "    e2 = Entry(predWindow)\n",
    "    e3 = Entry(predWindow)\n",
    "    e4 = Entry(predWindow)\n",
    "    e5 = Entry(predWindow)\n",
    "    e6 = Entry(predWindow)\n",
    "    e7 = Entry(predWindow)\n",
    "    e8 = Entry(predWindow)\n",
    "\n",
    "    #Specify the entryboxes' loations on the grid\n",
    "    e1.grid(row=5, column=2)\n",
    "    e2.grid(row=6, column=2)\n",
    "    e3.grid(row=7, column=2)\n",
    "    e4.grid(row=8, column=2)\n",
    "    e5.grid(row=9, column=2)\n",
    "    e6.grid(row=10, column=2)\n",
    "    e7.grid(row=11, column=2)\n",
    "    e8.grid(row=12, column=2)\n",
    "    \n",
    "    #Define a function for storing values\n",
    "    def entry_boxes():\n",
    "        global myLabel\n",
    "        preg=int(e1.get())\n",
    "        plas=float(e2.get()) \n",
    "        dias=float(e3.get()) \n",
    "        tri=float(e4.get())\n",
    "        ins=float(e5.get()) \n",
    "        bmi=float(e6.get()) \n",
    "        dpf=float(e7.get()) \n",
    "        age=int(e8.get())\n",
    "        \n",
    "        #Associate different variable names with different inputs received\n",
    "        df=pd.DataFrame({\n",
    "            \"Times Pregnant\":preg,\n",
    "            \"Plasma Glucose Concentration\":plas,\n",
    "            \"BMI\":bmi,\n",
    "            \"Age\":age,\n",
    "        },index=[0])\n",
    "        \n",
    "        svm_rbf = pickle.load(open('svmf.h5','rb')) #Load the SVM model using pickle\n",
    "        result=svm_rbf.predict(df) #Make predictions with the SVM model\n",
    "\n",
    "        if result == 0: #Non diabetic\n",
    "            Label(predWindow, text=\"The Patient is found to be non-diabetic.\", fg='black',bg='#D2D2B4',font=('Cairo', 13)).grid(row=31)\n",
    "            \n",
    "        elif result == 1: #Diabetic\n",
    "            Label(predWindow, text=\"xxxxxxxxxxxxxxxxxxxxxxxxxxxxxxxxxxxxxxxxxxxxxxxxxxxxxx\",fg='#D2D2B4',bg='#D2D2B4').grid(row=31) #clear output window for changing result\n",
    "            Label(predWindow, text=\"The Patient is found to be diabetic.\",fg='black',bg='#D2D2B4',font=('Cairo', 13)).grid(row=31)\n",
    "        \n",
    "    Label(predWindow, text=\"Spacing\",fg='#D2D2B4',bg='#D2D2B4').grid(row=31,column=0) #create spacing\n",
    "    Label(predWindow, text=\"Spacing\",fg='#D2D2B4',bg='#D2D2B4').grid(row=32,column=0) #create spacing\n",
    "    Label(predWindow, text=\"Spacing\",fg='#D2D2B4',bg='#D2D2B4').grid(row=31,column=1) #create spacing\n",
    "    Label(predWindow, text=\"Spacing\",fg='#D2D2B4',bg='#D2D2B4').grid(row=32,column=1) #create spacing\n",
    "    \n",
    "    #Execute the predictions functions and make predictions with the SVM model when the Predict button is pressed\n",
    "    Button(predWindow, text='Predict',font=('Helvetica', 13),bg='#FFFFEF', command=entry_boxes).grid(row=33,column=0)\n",
    "    #Exit the page when the Exit button is pressed\n",
    "    exit_button = Button(predWindow, text=\"Exit\",font=('Helvetica', 13),bg='#FFFFEF',command=predWindow.destroy).grid(row=33,column=1)"
   ]
  },
  {
   "cell_type": "markdown",
   "metadata": {},
   "source": [
    "## Main Page"
   ]
  },
  {
   "cell_type": "code",
   "execution_count": null,
   "metadata": {},
   "outputs": [
    {
     "name": "stdout",
     "output_type": "stream",
     "text": [
      "The User has entered the: 'Make Predictions' page\n"
     ]
    },
    {
     "name": "stderr",
     "output_type": "stream",
     "text": [
      "Exception in Tkinter callback\n",
      "Traceback (most recent call last):\n",
      "  File \"C:\\Users\\mytze\\anaconda3\\AnacondaNewest\\lib\\tkinter\\__init__.py\", line 1892, in __call__\n",
      "    return self.func(*args)\n",
      "  File \"C:\\Users\\mytze\\AppData\\Local\\Temp\\ipykernel_32528\\3976971470.py\", line 63, in entry_boxes\n",
      "    svm_rbf = pickle.load(open('svmf.h5','rb')) #Load the SVM model using pickle\n",
      "FileNotFoundError: [Errno 2] No such file or directory: 'svmf.h5'\n"
     ]
    }
   ],
   "source": [
    "main = tk.Tk()\n",
    "main.geometry('600x500')\n",
    "main.config(bg='#D2D2B4')\n",
    "main.resizable(False, False)\n",
    "main.title(\"Diabetes Prediction System\")\n",
    "Label(main, text = \"space\",font=('Helvetica', 13),fg='#D2D2B4',bg='#D2D2B4').pack()\n",
    "\n",
    "#Display Temasek Polytechnic Logo\n",
    "image0 = Image.open(\"tplogo.png\")\n",
    "img0 = image0.resize((150, 50)) #Rescale the image to a desired fit\n",
    "my_img0 = ImageTk.PhotoImage(img0)\n",
    "Label(image = my_img0,anchor= \"e\",bg='#D2D2B4').pack()\n",
    "\n",
    "#Display Biomedical Engineering Image\n",
    "image1 = Image.open(\"bme.jpg\")\n",
    "img1 = image1.resize((200, 200)) #Rescale the image to a desired fit\n",
    "my_img1 = ImageTk.PhotoImage(img1)\n",
    "Label(image = my_img1,anchor= CENTER,bg='#D2D2B4').pack()\n",
    "\n",
    "#Welcome text\n",
    "Label(main, text = \"Welcome to our Diabetes Prediction System\", font=('Cairo', 18),bg='#D2D2B4').pack()\n",
    "Label(main, text = \"space\",font=('Helvetica', 13),fg='#D2D2B4',bg='#D2D2B4').pack()\n",
    "#Select between project description and making predictions\n",
    "Label(main, text = \"Select Option:\",font=('Cairo', 15),bg='#D2D2B4').pack()\n",
    "\n",
    "#Create options\n",
    "OPTIONS = [\"Description\",\"Make Predictions\"] #Options list\n",
    "variable = StringVar(main)\n",
    "variable.set(OPTIONS[0]) #Set the default display as Description \n",
    "w = OptionMenu(main, variable, *OPTIONS)\n",
    "w.pack()\n",
    "\n",
    "# Create function for selecting option\n",
    "def option():\n",
    "    print (\"The User has entered the: '\" + variable.get() + \"' page\")\n",
    "    if (variable.get() == \"Description\"):\n",
    "        description()\n",
    "    elif (variable.get() == \"Make Predictions\"):\n",
    "        PredictionSVM()\n",
    "    \n",
    "btn = Button(main, text=\"Enter\",bg='#FFFFEF', command=option).pack() #When the Enter button is clicked, the option functions is executed\n",
    "Label(main, text = \"space\",font=('Helvetica', 13),fg='#D2D2B4',bg='#D2D2B4').pack()\n",
    "Label(main, text = \"Done by: Yong Tze Kye Matthew, Ong Tong Sing & Kwek Tze Xuan\",bg='#D2D2B4').pack()\n",
    "\n",
    "main.mainloop()"
   ]
  },
  {
   "cell_type": "code",
   "execution_count": null,
   "metadata": {},
   "outputs": [],
   "source": []
  }
 ],
 "metadata": {
  "kernelspec": {
   "display_name": "Python 3 (ipykernel)",
   "language": "python",
   "name": "python3"
  },
  "language_info": {
   "codemirror_mode": {
    "name": "ipython",
    "version": 3
   },
   "file_extension": ".py",
   "mimetype": "text/x-python",
   "name": "python",
   "nbconvert_exporter": "python",
   "pygments_lexer": "ipython3",
   "version": "3.9.12"
  }
 },
 "nbformat": 4,
 "nbformat_minor": 4
}
