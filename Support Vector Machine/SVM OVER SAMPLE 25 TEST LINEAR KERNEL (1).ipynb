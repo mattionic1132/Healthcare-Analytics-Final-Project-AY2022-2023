{
 "cells": [
  {
   "cell_type": "markdown",
   "id": "20351637",
   "metadata": {},
   "source": [
    "## imports"
   ]
  },
  {
   "cell_type": "code",
   "execution_count": 1,
   "id": "553b0f47",
   "metadata": {},
   "outputs": [],
   "source": [
    "import numpy as np\n",
    "import pandas as pd\n",
    "import seaborn as sns\n",
    "import matplotlib.pyplot as plt\n",
    "\n",
    "from sklearn.model_selection import train_test_split\n",
    "from sklearn.svm import SVC\n",
    "from sklearn.preprocessing import StandardScaler\n",
    "from sklearn.model_selection import GridSearchCV\n",
    "from sklearn.metrics import confusion_matrix\n",
    "from sklearn.ensemble import RandomForestClassifier\n",
    "from sklearn.metrics import accuracy_score\n",
    "from sklearn.model_selection import cross_validate\n",
    "from sklearn.model_selection import cross_val_score"
   ]
  },
  {
   "cell_type": "markdown",
   "id": "fa28280b",
   "metadata": {},
   "source": [
    "## over-sampled data"
   ]
  },
  {
   "cell_type": "code",
   "execution_count": 2,
   "id": "9da4de86",
   "metadata": {},
   "outputs": [],
   "source": [
    "# read data\n",
    "\n",
    "df_o = pd.read_csv('over-sample.csv')"
   ]
  },
  {
   "cell_type": "code",
   "execution_count": 3,
   "id": "1beb1676",
   "metadata": {},
   "outputs": [],
   "source": [
    "# choose train and test variable\n",
    "\n",
    "X = df_o.drop('Outcome', axis=1)\n",
    "y = df_o['Outcome']"
   ]
  },
  {
   "cell_type": "code",
   "execution_count": 4,
   "id": "d397edb9",
   "metadata": {},
   "outputs": [],
   "source": [
    "# scale data\n",
    "\n",
    "scaler = StandardScaler()\n",
    "scaler.fit(X)\n",
    "Xstd = scaler.transform(X)\n",
    "X = Xstd\n",
    "\n",
    "#train test split\n",
    "\n",
    "X_train, X_test, y_train, y_test = train_test_split(X, y, test_size=0.25,random_state=101)"
   ]
  },
  {
   "cell_type": "code",
   "execution_count": 5,
   "id": "c72020c0",
   "metadata": {},
   "outputs": [
    {
     "data": {
      "text/plain": [
       "0.7545454545454545"
      ]
     },
     "execution_count": 5,
     "metadata": {},
     "output_type": "execute_result"
    }
   ],
   "source": [
    "# accuracy of over-sampled data with 25% test size\n",
    "\n",
    "from sklearn.svm import SVC\n",
    "model = SVC()\n",
    "model.fit(X_train, y_train)\n",
    "pred= model.predict(X_test)\n",
    "from sklearn.metrics import accuracy_score \n",
    "accuracy_score(y_test, pred)"
   ]
  },
  {
   "cell_type": "markdown",
   "id": "543f01e5",
   "metadata": {},
   "source": [
    "### Linear SVM"
   ]
  },
  {
   "cell_type": "code",
   "execution_count": 6,
   "id": "b123c275",
   "metadata": {},
   "outputs": [
    {
     "name": "stdout",
     "output_type": "stream",
     "text": [
      "Accuracy of svm(linear): % 69.0909090909091\n",
      "{'C': 0.5, 'break_ties': False, 'cache_size': 200, 'class_weight': None, 'coef0': 0.0, 'decision_function_shape': 'ovr', 'degree': 3, 'gamma': 'scale', 'kernel': 'linear', 'max_iter': -1, 'probability': False, 'random_state': None, 'shrinking': True, 'tol': 0.001, 'verbose': False}\n"
     ]
    }
   ],
   "source": [
    "# basic model (to put best params in after grid search)\n",
    "\n",
    "from sklearn.svm import SVC\n",
    "svm_linear = SVC(kernel=\"linear\",C=0.5)\n",
    "svm_linear.fit(X_train,y_train)\n",
    "print(\"Accuracy of svm(linear): %\",svm_linear.score(X_test,y_test)*100)\n",
    "print(svm_linear.get_params())"
   ]
  },
  {
   "cell_type": "code",
   "execution_count": 7,
   "id": "b4dac1f5",
   "metadata": {},
   "outputs": [
    {
     "data": {
      "image/png": "[encoded data removed]",
      "text/plain": [
       "<Figure size 576x288 with 2 Axes>"
      ]
     },
     "metadata": {
      "needs_background": "light"
     },
     "output_type": "display_data"
    },
    {
     "name": "stdout",
     "output_type": "stream",
     "text": [
      "True negative =  80\n",
      "False positive =  31\n",
      "False negative =  37\n",
      "True positive =  72\n",
      "              precision    recall  f1-score   support\n",
      "\n",
      "           0       0.68      0.72      0.70       111\n",
      "           1       0.70      0.66      0.68       109\n",
      "\n",
      "    accuracy                           0.69       220\n",
      "   macro avg       0.69      0.69      0.69       220\n",
      "weighted avg       0.69      0.69      0.69       220\n",
      "\n"
     ]
    }
   ],
   "source": [
    "# linear svm performance analysis (before grid search)\n",
    "\n",
    "# confusion matrix\n",
    "y_pred = svm_linear.predict(X_test)\n",
    "y_true = y_test\n",
    "\n",
    "# 0 value is negative, 1 value is positive\n",
    "cmatrix_linear = confusion_matrix(y_true,y_pred,labels=[0,1])\n",
    "\n",
    "f,ax = plt.subplots(figsize=(8,4))\n",
    "sns.heatmap(cmatrix_linear,annot=True,linewidths=0.5,cbar=True,linecolor=\"white\",fmt='.0f',ax=ax)\n",
    "plt.title(\"Model's Confusion Matrix\")\n",
    "plt.xlabel(\"y_predict (Predicted Label)\")\n",
    "plt.ylabel(\"y_true (Actual Label)\")\n",
    "plt.show()\n",
    "\n",
    "print('True negative = ', cmatrix_linear[0][0])\n",
    "print('False positive = ', cmatrix_linear[0][1])\n",
    "print('False negative = ', cmatrix_linear[1][0])\n",
    "print('True positive = ', cmatrix_linear[1][1])\n",
    "\n",
    "from sklearn.metrics import classification_report\n",
    "print(classification_report(y_true,y_pred))"
   ]
  },
  {
   "cell_type": "markdown",
   "id": "90dfa9e5",
   "metadata": {},
   "source": [
    "#### grid search"
   ]
  },
  {
   "cell_type": "code",
   "execution_count": 8,
   "id": "edfab749",
   "metadata": {},
   "outputs": [
    {
     "name": "stdout",
     "output_type": "stream",
     "text": [
      "Tuned best parameters for kernel linear svm:  {'C': 0.001}\n",
      "Best score: 0.7447721489706222\n"
     ]
    }
   ],
   "source": [
    "# grid search\n",
    "\n",
    "from sklearn.svm import SVC\n",
    "param_grid = { 'C' : [0.001, 0.01, 0.1, 1, 5, 10]}\n",
    "svm_linear = SVC(kernel=\"linear\")\n",
    "svm_gscv0 = GridSearchCV(svm_linear,param_grid=param_grid)\n",
    "svm_gscv0.fit(X_train,y_train)\n",
    "\n",
    "print(\"Tuned best parameters for kernel linear svm: \",svm_gscv0.best_params_ ) \n",
    "print(\"Best score: {}\".format(svm_gscv0.best_score_))"
   ]
  },
  {
   "cell_type": "code",
   "execution_count": 9,
   "id": "df1be2d0",
   "metadata": {},
   "outputs": [
    {
     "name": "stdout",
     "output_type": "stream",
     "text": [
      "Accuracy of svm(linear): % 70.9090909090909\n",
      "{'C': 0.001, 'break_ties': False, 'cache_size': 200, 'class_weight': None, 'coef0': 0.0, 'decision_function_shape': 'ovr', 'degree': 3, 'gamma': 'scale', 'kernel': 'linear', 'max_iter': -1, 'probability': False, 'random_state': None, 'shrinking': True, 'tol': 0.001, 'verbose': False}\n"
     ]
    }
   ],
   "source": [
    "# basic model (with best params)\n",
    "\n",
    "from sklearn.svm import SVC\n",
    "svm_linear = SVC(kernel=\"linear\",C=0.001)\n",
    "svm_linear.fit(X_train,y_train)\n",
    "print(\"Accuracy of svm(linear): %\",svm_linear.score(X_test,y_test)*100)\n",
    "print(svm_linear.get_params())"
   ]
  },
  {
   "cell_type": "code",
   "execution_count": 10,
   "id": "70d28b66",
   "metadata": {},
   "outputs": [
    {
     "data": {
      "image/png": "[encoded data removed]",
      "text/plain": [
       "<Figure size 576x288 with 2 Axes>"
      ]
     },
     "metadata": {
      "needs_background": "light"
     },
     "output_type": "display_data"
    },
    {
     "name": "stdout",
     "output_type": "stream",
     "text": [
      "True negative =  84\n",
      "False positive =  27\n",
      "False negative =  37\n",
      "True positive =  72\n",
      "              precision    recall  f1-score   support\n",
      "\n",
      "           0       0.69      0.76      0.72       111\n",
      "           1       0.73      0.66      0.69       109\n",
      "\n",
      "    accuracy                           0.71       220\n",
      "   macro avg       0.71      0.71      0.71       220\n",
      "weighted avg       0.71      0.71      0.71       220\n",
      "\n"
     ]
    }
   ],
   "source": [
    "# linear svm performance analysis (after gid search)\n",
    "\n",
    "# confusion matrix\n",
    "y_pred = svm_linear.predict(X_test)\n",
    "y_true = y_test\n",
    "\n",
    "# 0 value is negative, 1 value is positive\n",
    "cmatrix_linear = confusion_matrix(y_true,y_pred,labels=[0,1])\n",
    "\n",
    "f,ax = plt.subplots(figsize=(8,4))\n",
    "sns.heatmap(cmatrix_linear,annot=True,linewidths=0.5,cbar=True,linecolor=\"white\",fmt='.0f',ax=ax)\n",
    "plt.title(\"Model's Confusion Matrix\")\n",
    "plt.xlabel(\"y_predict (Predicted Label)\")\n",
    "plt.ylabel(\"y_true (Actual Label)\")\n",
    "plt.show()\n",
    "\n",
    "print('True negative = ', cmatrix_linear[0][0])\n",
    "print('False positive = ', cmatrix_linear[0][1])\n",
    "print('False negative = ', cmatrix_linear[1][0])\n",
    "print('True positive = ', cmatrix_linear[1][1])\n",
    "\n",
    "from sklearn.metrics import classification_report\n",
    "print(classification_report(y_true,y_pred))"
   ]
  },
  {
   "cell_type": "code",
   "execution_count": 12,
   "id": "92bf5d34",
   "metadata": {},
   "outputs": [
    {
     "name": "stdout",
     "output_type": "stream",
     "text": [
      "Tuned best parameters for kernel linear svm:  {'C': 0.001}\n",
      "Best score: 0.7447721489706222\n"
     ]
    }
   ],
   "source": [
    "param_grid = { 'C' : [0.001, 0.01, 0.1, 1, 5, 10]}\n",
    "svm_linear = SVC(kernel=\"linear\")\n",
    "svm_gscv0 = GridSearchCV(svm_linear,param_grid=param_grid)\n",
    "svm_gscv0.fit(X_train,y_train)\n",
    "\n",
    "print(\"Tuned best parameters for kernel linear svm: \",svm_gscv0.best_params_ ) \n",
    "print(\"Best score: {}\".format(svm_gscv0.best_score_))"
   ]
  },
  {
   "cell_type": "markdown",
   "id": "65726661",
   "metadata": {},
   "source": [
    "#### cross validation"
   ]
  },
  {
   "cell_type": "code",
   "execution_count": 12,
   "id": "ee7ecc39",
   "metadata": {
    "scrolled": true
   },
   "outputs": [
    {
     "name": "stdout",
     "output_type": "stream",
     "text": [
      "Cv:5, Test Score: [0.72727273 0.70454545 0.75       0.71428571 0.77142857]\n",
      "Cv:5, Train Score: [0.71937322 0.73789174 0.72792023 0.7254623  0.72830725]\n",
      "Accuracy: 0.73 (+/- 0.05)\n",
      "F1 Score :  [0.7037037  0.69411765 0.73170732 0.6875     0.75609756]\n",
      "Negative Mean Squared Error:  [-0.27272727 -0.29545455 -0.25       -0.28571429 -0.22857143]\n",
      "Cv = 5, recall =  [0.64772727 0.67045455 0.68181818 0.63218391 0.70454545]\n",
      "Cv = 5, precision =  [0.77027027 0.7195122  0.78947368 0.75342466 0.81578947]\n"
     ]
    }
   ],
   "source": [
    "# cross validation\n",
    "\n",
    "lin_svc = SVC(kernel='linear',C=0.001)\n",
    "lin_svc.fit(X,y)\n",
    "lin_svc_result = cross_validate(lin_svc,X, y, cv=5,scoring='accuracy',return_train_score=True)\n",
    "print(\"Cv:5, Test Score: {}\".format(lin_svc_result['test_score']))\n",
    "print(\"Cv:5, Train Score: {}\".format(lin_svc_result['train_score']))\n",
    "\n",
    "\n",
    "accuracy = cross_val_score(lin_svc,X,y,cv=5)\n",
    "print(\"Accuracy: %0.2f (+/- %0.2f)\" % (accuracy.mean(),accuracy.std() * 2))\n",
    "\n",
    "f1 = cross_val_score(lin_svc,X,y,cv=5,scoring='f1')\n",
    "print('F1 Score : ',f1)\n",
    "\n",
    "mse = cross_val_score(lin_svc,X,y,cv=5,scoring='neg_mean_squared_error')\n",
    "print('Negative Mean Squared Error: ', mse)\n",
    "print(\"Cv = 5, recall = \",cross_val_score(lin_svc, X, y, scoring='recall'))\n",
    "print(\"Cv = 5, precision = \",cross_val_score(lin_svc, X, y, scoring='precision'))"
   ]
  },
  {
   "cell_type": "code",
   "execution_count": 13,
   "id": "95f94b39",
   "metadata": {},
   "outputs": [
    {
     "data": {
      "image/png": "[encoded data removed]",
      "text/plain": [
       "<Figure size 432x288 with 1 Axes>"
      ]
     },
     "metadata": {
      "needs_background": "light"
     },
     "output_type": "display_data"
    }
   ],
   "source": [
    "# roc curve of train and test accuracy\n",
    "\n",
    "from sklearn.model_selection import GridSearchCV  \n",
    "from sklearn.linear_model import SGDClassifier\n",
    "from sklearn.metrics import roc_curve, auc\n",
    "\n",
    "np.random.seed(0)\n",
    "\n",
    "model = SGDClassifier(loss='hinge', alpha=0.0001, class_weight='balanced')\n",
    "model.fit(X_train, y_train)\n",
    "\n",
    "y_train_pred = model.decision_function(X_train)    \n",
    "y_test_pred = model.decision_function(X_test) \n",
    "\n",
    "train_fpr, train_tpr, tr_thresholds = roc_curve(y_train, y_train_pred)\n",
    "test_fpr, test_tpr, te_thresholds = roc_curve(y_test, y_test_pred)\n",
    "\n",
    "plt.grid()\n",
    "\n",
    "plt.plot(train_fpr, train_tpr, label=\" AUC TRAIN =\"+str(auc(train_fpr, train_tpr)))\n",
    "plt.plot(test_fpr, test_tpr, label=\" AUC TEST =\"+str(auc(test_fpr, test_tpr)))\n",
    "plt.plot([0,1],[0,1],'g--')\n",
    "plt.legend()\n",
    "plt.xlabel(\"False Positive Rate\")\n",
    "plt.ylabel(\"True Positive Rate\")\n",
    "plt.title(\"AUC(ROC curve)\")\n",
    "plt.grid(color='black', linestyle='-', linewidth=0.5)\n",
    "plt.show()\n",
    "#when AUC is 0.5-1, high chance that classifier is able to distinguish positive class valuces from negative class (detect more true positive and true negative)"
   ]
  }
 ],
 "metadata": {
  "kernelspec": {
   "display_name": "Python 3 (ipykernel)",
   "language": "python",
   "name": "python3"
  },
  "language_info": {
   "codemirror_mode": {
    "name": "ipython",
    "version": 3
   },
   "file_extension": ".py",
   "mimetype": "text/x-python",
   "name": "python",
   "nbconvert_exporter": "python",
   "pygments_lexer": "ipython3",
   "version": "3.9.12"
  }
 },
 "nbformat": 4,
 "nbformat_minor": 5
}
