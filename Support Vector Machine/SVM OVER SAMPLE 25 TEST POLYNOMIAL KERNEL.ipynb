{
 "cells": [
  {
   "cell_type": "markdown",
   "id": "20351637",
   "metadata": {},
   "source": [
    "## imports"
   ]
  },
  {
   "cell_type": "code",
   "execution_count": 1,
   "id": "553b0f47",
   "metadata": {},
   "outputs": [],
   "source": [
    "import numpy as np\n",
    "import pandas as pd\n",
    "import seaborn as sns\n",
    "import matplotlib.pyplot as plt\n",
    "\n",
    "from sklearn.model_selection import train_test_split\n",
    "from sklearn.svm import SVC\n",
    "from sklearn.preprocessing import StandardScaler\n",
    "from sklearn.model_selection import GridSearchCV\n",
    "from sklearn.metrics import confusion_matrix\n",
    "from sklearn.ensemble import RandomForestClassifier\n",
    "from sklearn.metrics import accuracy_score\n",
    "from sklearn.model_selection import cross_validate\n",
    "from sklearn.model_selection import cross_val_score"
   ]
  },
  {
   "cell_type": "markdown",
   "id": "fa28280b",
   "metadata": {},
   "source": [
    "## over-sampled data"
   ]
  },
  {
   "cell_type": "code",
   "execution_count": 2,
   "id": "9da4de86",
   "metadata": {},
   "outputs": [],
   "source": [
    "# read data\n",
    "\n",
    "df_o = pd.read_csv('over-sample.csv')"
   ]
  },
  {
   "cell_type": "code",
   "execution_count": 3,
   "id": "1beb1676",
   "metadata": {},
   "outputs": [],
   "source": [
    "# choose train and test variable\n",
    "\n",
    "X = df_o.drop('Outcome', axis=1)\n",
    "y = df_o['Outcome']"
   ]
  },
  {
   "cell_type": "code",
   "execution_count": 4,
   "id": "d397edb9",
   "metadata": {},
   "outputs": [],
   "source": [
    "# scale data\n",
    "\n",
    "scaler = StandardScaler()\n",
    "scaler.fit(X)\n",
    "Xstd = scaler.transform(X)\n",
    "X = Xstd\n",
    "\n",
    "#train test split\n",
    "\n",
    "X_train, X_test, y_train, y_test = train_test_split(X, y, test_size=0.25,random_state=101)"
   ]
  },
  {
   "cell_type": "code",
   "execution_count": 5,
   "id": "2b835061",
   "metadata": {},
   "outputs": [
    {
     "data": {
      "text/plain": [
       "0.7545454545454545"
      ]
     },
     "execution_count": 5,
     "metadata": {},
     "output_type": "execute_result"
    }
   ],
   "source": [
    "# accuracy of over-sampled data with 25% test size\n",
    "\n",
    "from sklearn.svm import SVC\n",
    "model = SVC()\n",
    "model.fit(X_train, y_train)\n",
    "pred= model.predict(X_test)\n",
    "from sklearn.metrics import accuracy_score \n",
    "accuracy_score(y_test, pred)"
   ]
  },
  {
   "cell_type": "markdown",
   "id": "285374a7",
   "metadata": {},
   "source": [
    "### Polynomial SVM"
   ]
  },
  {
   "cell_type": "code",
   "execution_count": 6,
   "id": "2bd20a2e",
   "metadata": {},
   "outputs": [
    {
     "name": "stdout",
     "output_type": "stream",
     "text": [
      "Accuracy of svm(poly)%:  64.54545454545455\n",
      "\n",
      "\n",
      "Other Default Parameters:  {'C': 1.0, 'break_ties': False, 'cache_size': 200, 'class_weight': None, 'coef0': 0.0, 'decision_function_shape': 'ovr', 'degree': 2.0, 'gamma': 'scale', 'kernel': 'poly', 'max_iter': -1, 'probability': False, 'random_state': None, 'shrinking': True, 'tol': 0.001, 'verbose': False}\n"
     ]
    }
   ],
   "source": [
    "# basic model (to put best params in after grid search)\n",
    "\n",
    "from sklearn.svm import SVC\n",
    "svm_polynomial = SVC(kernel=\"poly\",C=1.0,degree=2.0,gamma='scale')\n",
    "svm_polynomial.fit(X_train,y_train)\n",
    "print(\"Accuracy of svm(poly)%: \",svm_polynomial.score(X_test,y_test)*100)\n",
    "print(\"\\n\\nOther Default Parameters: \",svm_polynomial.get_params())"
   ]
  },
  {
   "cell_type": "code",
   "execution_count": 7,
   "id": "09598e21",
   "metadata": {
    "scrolled": false
   },
   "outputs": [
    {
     "data": {
      "image/png": "[encoded data removed]",
      "text/plain": [
       "<Figure size 576x288 with 2 Axes>"
      ]
     },
     "metadata": {
      "needs_background": "light"
     },
     "output_type": "display_data"
    },
    {
     "name": "stdout",
     "output_type": "stream",
     "text": [
      "True negative =  89\n",
      "False positive =  22\n",
      "False negative =  56\n",
      "True positive =  53\n",
      "              precision    recall  f1-score   support\n",
      "\n",
      "           0       0.61      0.80      0.70       111\n",
      "           1       0.71      0.49      0.58       109\n",
      "\n",
      "    accuracy                           0.65       220\n",
      "   macro avg       0.66      0.64      0.64       220\n",
      "weighted avg       0.66      0.65      0.64       220\n",
      "\n"
     ]
    }
   ],
   "source": [
    "# polynomial svm performance analysis (before grid search)\n",
    "\n",
    "#confusion matrix \n",
    "y_pred = svm_polynomial.predict(X_test)\n",
    "y_true = y_test\n",
    "\n",
    "# 0 value is negative\n",
    "# 1 value is positive\n",
    "cmatrix_polynomial = confusion_matrix(y_true,y_pred,labels=[0,1])\n",
    "\n",
    "f,ax = plt.subplots(figsize=(8,4))\n",
    "sns.heatmap(cmatrix_polynomial,annot=True,linewidths=0.5,cbar=True,linecolor=\"white\",fmt='.0f',ax=ax)\n",
    "plt.title(\"Model's Confusion Matrix\")\n",
    "plt.xlabel(\"y_predict (Predicted Label)\")\n",
    "plt.ylabel(\"y_true (Actual Label)\")\n",
    "plt.show()\n",
    "\n",
    "print('True negative = ', cmatrix_polynomial[0][0])\n",
    "print('False positive = ', cmatrix_polynomial[0][1])\n",
    "print('False negative = ', cmatrix_polynomial[1][0])\n",
    "print('True positive = ', cmatrix_polynomial[1][1])\n",
    "\n",
    "from sklearn.metrics import classification_report\n",
    "print(classification_report(y_true,y_pred))"
   ]
  },
  {
   "cell_type": "markdown",
   "id": "ac53b117",
   "metadata": {},
   "source": [
    "#### grid search"
   ]
  },
  {
   "cell_type": "code",
   "execution_count": 13,
   "id": "ee7ecc39",
   "metadata": {},
   "outputs": [
    {
     "name": "stdout",
     "output_type": "stream",
     "text": [
      "Tuned best parameters for kernel poly svm:  {'C': 0.01, 'degree': 1}\n",
      "Best score: 0.7432685634975711\n"
     ]
    }
   ],
   "source": [
    "# grid search \n",
    "\n",
    "param_grid = { \n",
    "    'C' : [0.001, 0.01, 0.1, 1, 5, 10],\n",
    "    'degree':list(range(1,7))\n",
    "}\n",
    "svm_poly = SVC(kernel=\"poly\")\n",
    "svm_gscv2 = GridSearchCV(svm_poly,param_grid) #cv default = 5\n",
    "svm_gscv2.fit(X_train,y_train)\n",
    "\n",
    "print(\"Tuned best parameters for kernel poly svm: \",svm_gscv2.best_params_ ) \n",
    "print(\"Best score: {}\".format(svm_gscv2.best_score_))"
   ]
  },
  {
   "cell_type": "code",
   "execution_count": 14,
   "id": "0ac51c3a",
   "metadata": {},
   "outputs": [
    {
     "name": "stdout",
     "output_type": "stream",
     "text": [
      "Accuracy of svm(poly)%:  70.45454545454545\n",
      "\n",
      "\n",
      "Other Default Parameters:  {'C': 0.01, 'break_ties': False, 'cache_size': 200, 'class_weight': None, 'coef0': 0.0, 'decision_function_shape': 'ovr', 'degree': 1, 'gamma': 'scale', 'kernel': 'poly', 'max_iter': -1, 'probability': False, 'random_state': None, 'shrinking': True, 'tol': 0.001, 'verbose': False}\n"
     ]
    }
   ],
   "source": [
    "# basic model (with best params)\n",
    "\n",
    "from sklearn.svm import SVC\n",
    "svm_polynomial = SVC(kernel=\"poly\",C=0.01,degree=1,gamma='scale')\n",
    "svm_polynomial.fit(X_train,y_train)\n",
    "print(\"Accuracy of svm(poly)%: \",svm_polynomial.score(X_test,y_test)*100)\n",
    "print(\"\\n\\nOther Default Parameters: \",svm_polynomial.get_params())"
   ]
  },
  {
   "cell_type": "code",
   "execution_count": 15,
   "id": "c625ba53",
   "metadata": {},
   "outputs": [
    {
     "data": {
      "image/png": "[encoded data removed]",
      "text/plain": [
       "<Figure size 576x288 with 2 Axes>"
      ]
     },
     "metadata": {
      "needs_background": "light"
     },
     "output_type": "display_data"
    },
    {
     "name": "stdout",
     "output_type": "stream",
     "text": [
      "True negative =  82\n",
      "False positive =  29\n",
      "False negative =  36\n",
      "True positive =  73\n",
      "              precision    recall  f1-score   support\n",
      "\n",
      "           0       0.69      0.74      0.72       111\n",
      "           1       0.72      0.67      0.69       109\n",
      "\n",
      "    accuracy                           0.70       220\n",
      "   macro avg       0.71      0.70      0.70       220\n",
      "weighted avg       0.71      0.70      0.70       220\n",
      "\n"
     ]
    }
   ],
   "source": [
    "# polynomial svm performance analysis (after grid search)\n",
    "\n",
    "#confusion matrix \n",
    "y_pred = svm_polynomial.predict(X_test)\n",
    "y_true = y_test\n",
    "\n",
    "# 0 value is negative\n",
    "# 1 value is positive\n",
    "cmatrix_polynomial = confusion_matrix(y_true,y_pred,labels=[0,1])\n",
    "\n",
    "f,ax = plt.subplots(figsize=(8,4))\n",
    "sns.heatmap(cmatrix_polynomial,annot=True,linewidths=0.5,cbar=True,linecolor=\"white\",fmt='.0f',ax=ax)\n",
    "plt.title(\"Model's Confusion Matrix\")\n",
    "plt.xlabel(\"y_predict (Predicted Label)\")\n",
    "plt.ylabel(\"y_true (Actual Label)\")\n",
    "plt.show()\n",
    "\n",
    "print('True negative = ', cmatrix_polynomial[0][0])\n",
    "print('False positive = ', cmatrix_polynomial[0][1])\n",
    "print('False negative = ', cmatrix_polynomial[1][0])\n",
    "print('True positive = ', cmatrix_polynomial[1][1])\n",
    "\n",
    "from sklearn.metrics import classification_report\n",
    "print(classification_report(y_true,y_pred))"
   ]
  },
  {
   "cell_type": "markdown",
   "id": "398cb121",
   "metadata": {},
   "source": [
    "#### cross validation"
   ]
  },
  {
   "cell_type": "code",
   "execution_count": 17,
   "id": "ec64cee7",
   "metadata": {},
   "outputs": [
    {
     "name": "stdout",
     "output_type": "stream",
     "text": [
      "Cv:5, Test Score: [0.71590909 0.75       0.72727273 0.69142857 0.74857143]\n",
      "Cv:5, Train Score: [0.74643875 0.78347578 0.75213675 0.73257468 0.78093883]\n",
      "Accuracy: 0.73 (+/- 0.04)\n",
      "F1 Score :  [0.69512195 0.77777778 0.70731707 0.63013699 0.76595745]\n",
      "Negative Mean Squared Error:  [-0.28409091 -0.25       -0.27272727 -0.30857143 -0.25142857]\n",
      "Cv = 5, recall =  [0.64772727 0.875      0.65909091 0.52873563 0.81818182]\n",
      "Cv = 5, precision =  [0.75       0.7        0.76315789 0.77966102 0.72      ]\n"
     ]
    }
   ],
   "source": [
    "# cross validation\n",
    "\n",
    "poly_svc = SVC(kernel='poly',C=1,degree=3)\n",
    "poly_svc.fit(X,y)\n",
    "poly_svc_result = cross_validate(poly_svc,X, y, cv=5,scoring='accuracy',return_train_score=True)\n",
    "print(\"Cv:5, Test Score: {}\".format(poly_svc_result['test_score']))\n",
    "print(\"Cv:5, Train Score: {}\".format(poly_svc_result['train_score']))\n",
    "\n",
    "\n",
    "accuracy = cross_val_score(poly_svc,X,y,cv=5)\n",
    "print(\"Accuracy: %0.2f (+/- %0.2f)\" % (accuracy.mean(),accuracy.std() * 2))\n",
    "\n",
    "f1 = cross_val_score(poly_svc,X,y,cv=5,scoring='f1')\n",
    "print('F1 Score : ',f1)\n",
    "\n",
    "mse = cross_val_score(poly_svc,X,y,cv=5,scoring='neg_mean_squared_error')\n",
    "print('Negative Mean Squared Error: ', mse)\n",
    "print(\"Cv = 5, recall = \",cross_val_score(poly_svc, X, y, scoring='recall'))\n",
    "print(\"Cv = 5, precision = \",cross_val_score(poly_svc, X, y, scoring='precision'))"
   ]
  },
  {
   "cell_type": "code",
   "execution_count": 18,
   "id": "95f94b39",
   "metadata": {},
   "outputs": [
    {
     "data": {
      "image/png": "[encoded data removed]",
      "text/plain": [
       "<Figure size 432x288 with 1 Axes>"
      ]
     },
     "metadata": {
      "needs_background": "light"
     },
     "output_type": "display_data"
    }
   ],
   "source": [
    "# roc curve of train and test accuracy\n",
    "\n",
    "from sklearn import svm\n",
    "from sklearn.model_selection import GridSearchCV  \n",
    "from sklearn.metrics import roc_curve, auc\n",
    "from sklearn.multiclass import OneVsRestClassifier\n",
    "\n",
    "np.random.seed(0)\n",
    "\n",
    "random_state = np.random.RandomState(0)\n",
    "classifier = OneVsRestClassifier(svm.SVC(kernel='poly', probability=True,\n",
    "                                 random_state=random_state))\n",
    "classifier.fit(X_train, y_train)\n",
    "\n",
    "y_train_pred = classifier.decision_function(X_train)    \n",
    "y_test_pred = classifier.decision_function(X_test) \n",
    "\n",
    "train_fpr, train_tpr, tr_thresholds = roc_curve(y_train, y_train_pred)\n",
    "test_fpr, test_tpr, te_thresholds = roc_curve(y_test, y_test_pred)\n",
    "\n",
    "plt.grid()\n",
    "\n",
    "plt.plot(train_fpr, train_tpr, label=\" AUC TRAIN =\"+str(auc(train_fpr, train_tpr)))\n",
    "plt.plot(test_fpr, test_tpr, label=\" AUC TEST =\"+str(auc(test_fpr, test_tpr)))\n",
    "plt.plot([0,1],[0,1],'g--')\n",
    "plt.legend()\n",
    "plt.xlabel(\"False Positive Rate\")\n",
    "plt.ylabel(\"True Positive Rate\")\n",
    "plt.title(\"AUC(ROC curve)\")\n",
    "plt.grid(color='black', linestyle='-', linewidth=0.5)\n",
    "plt.show()\n",
    "#when AUC is 0.5-1, high chance that classifier is able to distinguish positive class valuces from negative class (detect more true positive and true negative)"
   ]
  }
 ],
 "metadata": {
  "kernelspec": {
   "display_name": "Python 3 (ipykernel)",
   "language": "python",
   "name": "python3"
  },
  "language_info": {
   "codemirror_mode": {
    "name": "ipython",
    "version": 3
   },
   "file_extension": ".py",
   "mimetype": "text/x-python",
   "name": "python",
   "nbconvert_exporter": "python",
   "pygments_lexer": "ipython3",
   "version": "3.9.12"
  }
 },
 "nbformat": 4,
 "nbformat_minor": 5
}
