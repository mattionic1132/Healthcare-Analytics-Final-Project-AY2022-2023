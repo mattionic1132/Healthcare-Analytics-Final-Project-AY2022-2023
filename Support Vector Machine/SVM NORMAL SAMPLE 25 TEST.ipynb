{
 "cells": [
  {
   "cell_type": "markdown",
   "id": "20351637",
   "metadata": {},
   "source": [
    "## imports"
   ]
  },
  {
   "cell_type": "code",
   "execution_count": 1,
   "id": "553b0f47",
   "metadata": {},
   "outputs": [],
   "source": [
    "import numpy as np\n",
    "import pandas as pd\n",
    "import seaborn as sns\n",
    "import matplotlib.pyplot as plt\n",
    "\n",
    "from sklearn.model_selection import train_test_split\n",
    "from sklearn.svm import SVC\n",
    "from sklearn.preprocessing import StandardScaler\n",
    "from sklearn.model_selection import GridSearchCV\n",
    "from sklearn.metrics import confusion_matrix\n",
    "from sklearn.ensemble import RandomForestClassifier\n",
    "from sklearn.metrics import accuracy_score"
   ]
  },
  {
   "cell_type": "markdown",
   "id": "7582dfe1",
   "metadata": {},
   "source": [
    "## normal data"
   ]
  },
  {
   "cell_type": "code",
   "execution_count": 2,
   "id": "9da4de86",
   "metadata": {},
   "outputs": [],
   "source": [
    "# read data\n",
    "\n",
    "df_n = pd.read_csv('data_preprocessed_normalised.csv')"
   ]
  },
  {
   "cell_type": "code",
   "execution_count": 3,
   "id": "1beb1676",
   "metadata": {},
   "outputs": [],
   "source": [
    "# choose train and test variable\n",
    "\n",
    "X = df_n.drop('Outcome', axis=1)\n",
    "y = df_n['Outcome']"
   ]
  },
  {
   "cell_type": "code",
   "execution_count": 4,
   "id": "d397edb9",
   "metadata": {},
   "outputs": [],
   "source": [
    "# scale data\n",
    "\n",
    "scaler = StandardScaler()\n",
    "scaler.fit(X)\n",
    "Xstd = scaler.transform(X)\n",
    "X = Xstd\n",
    "\n",
    "#train test split\n",
    "\n",
    "X_train, X_test, y_train, y_test = train_test_split(X, y, test_size=0.25,random_state=101)"
   ]
  },
  {
   "cell_type": "code",
   "execution_count": 5,
   "id": "8c0c3445",
   "metadata": {},
   "outputs": [
    {
     "data": {
      "text/plain": [
       "0.75625"
      ]
     },
     "execution_count": 5,
     "metadata": {},
     "output_type": "execute_result"
    }
   ],
   "source": [
    "# accuracy of normal-sampled data with 25% test size \n",
    "\n",
    "from sklearn.svm import SVC\n",
    "model = SVC()\n",
    "model.fit(X_train, y_train)\n",
    "pred= model.predict(X_test)\n",
    "from sklearn.metrics import accuracy_score \n",
    "accuracy_score(y_test, pred)"
   ]
  }
 ],
 "metadata": {
  "kernelspec": {
   "display_name": "Python 3 (ipykernel)",
   "language": "python",
   "name": "python3"
  },
  "language_info": {
   "codemirror_mode": {
    "name": "ipython",
    "version": 3
   },
   "file_extension": ".py",
   "mimetype": "text/x-python",
   "name": "python",
   "nbconvert_exporter": "python",
   "pygments_lexer": "ipython3",
   "version": "3.9.12"
  }
 },
 "nbformat": 4,
 "nbformat_minor": 5
}
