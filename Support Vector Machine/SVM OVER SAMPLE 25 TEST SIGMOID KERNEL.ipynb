{
 "cells": [
  {
   "cell_type": "markdown",
   "id": "20351637",
   "metadata": {},
   "source": [
    "## imports"
   ]
  },
  {
   "cell_type": "code",
   "execution_count": 1,
   "id": "553b0f47",
   "metadata": {},
   "outputs": [],
   "source": [
    "import numpy as np\n",
    "import pandas as pd\n",
    "import seaborn as sns\n",
    "import matplotlib.pyplot as plt\n",
    "\n",
    "from sklearn.model_selection import train_test_split\n",
    "from sklearn.svm import SVC\n",
    "from sklearn.preprocessing import StandardScaler\n",
    "from sklearn.model_selection import GridSearchCV\n",
    "from sklearn.metrics import confusion_matrix\n",
    "from sklearn.ensemble import RandomForestClassifier\n",
    "from sklearn.metrics import accuracy_score\n",
    "from sklearn.model_selection import cross_validate\n",
    "from sklearn.model_selection import cross_val_score"
   ]
  },
  {
   "cell_type": "markdown",
   "id": "fa28280b",
   "metadata": {},
   "source": [
    "## over-sampled data"
   ]
  },
  {
   "cell_type": "code",
   "execution_count": 2,
   "id": "9da4de86",
   "metadata": {},
   "outputs": [],
   "source": [
    "# read data\n",
    "\n",
    "df_o = pd.read_csv('over-sample.csv')"
   ]
  },
  {
   "cell_type": "code",
   "execution_count": 3,
   "id": "1beb1676",
   "metadata": {},
   "outputs": [],
   "source": [
    "# choose train and test variable\n",
    "\n",
    "X = df_o.drop('Outcome', axis=1)\n",
    "y = df_o['Outcome']"
   ]
  },
  {
   "cell_type": "code",
   "execution_count": 4,
   "id": "d397edb9",
   "metadata": {},
   "outputs": [],
   "source": [
    "# scale data\n",
    "\n",
    "scaler = StandardScaler()\n",
    "scaler.fit(X)\n",
    "Xstd = scaler.transform(X)\n",
    "X = Xstd\n",
    "\n",
    "#train test split\n",
    "\n",
    "X_train, X_test, y_train, y_test = train_test_split(X, y, test_size=0.25,random_state=101)"
   ]
  },
  {
   "cell_type": "code",
   "execution_count": 5,
   "id": "bd07061e",
   "metadata": {},
   "outputs": [
    {
     "data": {
      "text/plain": [
       "0.7545454545454545"
      ]
     },
     "execution_count": 5,
     "metadata": {},
     "output_type": "execute_result"
    }
   ],
   "source": [
    "# accuracy of over-sampled data with 25% test size\n",
    "\n",
    "from sklearn.svm import SVC\n",
    "model = SVC()\n",
    "model.fit(X_train, y_train)\n",
    "pred= model.predict(X_test)\n",
    "from sklearn.metrics import accuracy_score \n",
    "accuracy_score(y_test, pred)"
   ]
  },
  {
   "cell_type": "markdown",
   "id": "06a1a87c",
   "metadata": {},
   "source": [
    "### Sigmoid SVM"
   ]
  },
  {
   "cell_type": "code",
   "execution_count": 7,
   "id": "1847068c",
   "metadata": {
    "scrolled": true
   },
   "outputs": [
    {
     "name": "stdout",
     "output_type": "stream",
     "text": [
      "Accuracy of svm(sigmoid): % 58.63636363636363\n"
     ]
    }
   ],
   "source": [
    "# basic model (to put best params in after grid search)\n",
    "\n",
    "from sklearn.svm import SVC\n",
    "\n",
    "svm_sigmoid = SVC(kernel=\"sigmoid\",gamma=0.5)\n",
    "svm_sigmoid.fit(X_train,y_train)\n",
    "print(\"Accuracy of svm(sigmoid): %\",svm_sigmoid.score(X_test,y_test)*100)"
   ]
  },
  {
   "cell_type": "code",
   "execution_count": 8,
   "id": "a4d3989f",
   "metadata": {},
   "outputs": [
    {
     "data": {
      "image/png": "[encoded data removed]",
      "text/plain": [
       "<Figure size 576x288 with 2 Axes>"
      ]
     },
     "metadata": {
      "needs_background": "light"
     },
     "output_type": "display_data"
    },
    {
     "name": "stdout",
     "output_type": "stream",
     "text": [
      "True negative =  62\n",
      "False positive =  49\n",
      "False negative =  42\n",
      "True positive =  67\n",
      "              precision    recall  f1-score   support\n",
      "\n",
      "           0       0.60      0.56      0.58       111\n",
      "           1       0.58      0.61      0.60       109\n",
      "\n",
      "    accuracy                           0.59       220\n",
      "   macro avg       0.59      0.59      0.59       220\n",
      "weighted avg       0.59      0.59      0.59       220\n",
      "\n"
     ]
    }
   ],
   "source": [
    "# sigmoid svm performance analysis (before grid search)\n",
    "\n",
    "#confusion matrix \n",
    "y_pred = svm_sigmoid.predict(X_test)\n",
    "y_true = y_test\n",
    "\n",
    "# 0 value is negative\n",
    "# 1 value is positive\n",
    "cmatrix_sigmoid  = confusion_matrix(y_true,y_pred,labels=[0,1])\n",
    "\n",
    "f,ax = plt.subplots(figsize=(8,4))\n",
    "sns.heatmap(cmatrix_sigmoid,annot=True,linewidths=0.5,cbar=True,linecolor=\"white\",fmt='.0f',ax=ax)\n",
    "plt.title(\"Model's Confusion Matrix\")\n",
    "plt.xlabel(\"y_predict (Predicted Label)\")\n",
    "plt.ylabel(\"y_true (Actual Label)\")\n",
    "plt.show()\n",
    "\n",
    "print('True negative = ', cmatrix_sigmoid[0][0])\n",
    "print('False positive = ', cmatrix_sigmoid[0][1])\n",
    "print('False negative = ', cmatrix_sigmoid[1][0])\n",
    "print('True positive = ', cmatrix_sigmoid[1][1])\n",
    "\n",
    "from sklearn.metrics import classification_report\n",
    "print(classification_report(y_true,y_pred))"
   ]
  },
  {
   "cell_type": "markdown",
   "id": "6246809e",
   "metadata": {},
   "source": [
    "#### grid search"
   ]
  },
  {
   "cell_type": "code",
   "execution_count": 9,
   "id": "db629859",
   "metadata": {},
   "outputs": [
    {
     "name": "stdout",
     "output_type": "stream",
     "text": [
      "Tuned best parameters for kernel poly svm:  {'coef0': 0.046415888336127795, 'gamma': 0.1}\n",
      "Best score: 0.7326046726810086\n"
     ]
    }
   ],
   "source": [
    "# grid search\n",
    "\n",
    "from sklearn.svm import SVC\n",
    "param_grid = { \n",
    "   'gamma': np.arange(0,1,0.1),\n",
    "    'coef0': np.logspace(-3, 2, 10)\n",
    "}\n",
    "svm_sigmoid = SVC(kernel=\"sigmoid\")\n",
    "svm_gscv4 = GridSearchCV(svm_sigmoid,param_grid) #cv default = 5\n",
    "svm_gscv4.fit(X_train,y_train)\n",
    "\n",
    "print(\"Tuned best parameters for kernel poly svm: \",svm_gscv4.best_params_ ) \n",
    "print(\"Best score: {}\".format(svm_gscv4.best_score_))"
   ]
  },
  {
   "cell_type": "code",
   "execution_count": 12,
   "id": "25423861",
   "metadata": {},
   "outputs": [
    {
     "name": "stdout",
     "output_type": "stream",
     "text": [
      "Accuracy of svm(sigmoid): % 66.81818181818183\n"
     ]
    }
   ],
   "source": [
    "# basic model (with best params)\n",
    "\n",
    "from sklearn.svm import SVC\n",
    "\n",
    "svm_sigmoid = SVC(C=0.046415888336127795, kernel=\"sigmoid\",gamma=0.5)\n",
    "svm_sigmoid.fit(X_train,y_train)\n",
    "print(\"Accuracy of svm(sigmoid): %\",svm_sigmoid.score(X_test,y_test)*100)"
   ]
  },
  {
   "cell_type": "code",
   "execution_count": 15,
   "id": "c6585a30",
   "metadata": {},
   "outputs": [
    {
     "data": {
      "image/png": "[encoded data removed]",
      "text/plain": [
       "<Figure size 576x288 with 2 Axes>"
      ]
     },
     "metadata": {
      "needs_background": "light"
     },
     "output_type": "display_data"
    },
    {
     "name": "stdout",
     "output_type": "stream",
     "text": [
      "True negative =  70\n",
      "False positive =  41\n",
      "False negative =  32\n",
      "True positive =  77\n",
      "              precision    recall  f1-score   support\n",
      "\n",
      "           0       0.69      0.63      0.66       111\n",
      "           1       0.65      0.71      0.68       109\n",
      "\n",
      "    accuracy                           0.67       220\n",
      "   macro avg       0.67      0.67      0.67       220\n",
      "weighted avg       0.67      0.67      0.67       220\n",
      "\n"
     ]
    }
   ],
   "source": [
    "# sigmoid svm performance analysis (after grid search)\n",
    "\n",
    "#confusion matrix \n",
    "y_pred = svm_sigmoid.predict(X_test)\n",
    "y_true = y_test\n",
    "\n",
    "# 0 value is negative\n",
    "# 1 value is positive\n",
    "cmatrix_sigmoid  = confusion_matrix(y_true,y_pred,labels=[0,1])\n",
    "\n",
    "f,ax = plt.subplots(figsize=(8,4))\n",
    "sns.heatmap(cmatrix_sigmoid,annot=True,linewidths=0.5,cbar=True,linecolor=\"white\",fmt='.0f',ax=ax)\n",
    "plt.title(\"Model's Confusion Matrix\")\n",
    "plt.xlabel(\"y_predict (Predicted Label)\")\n",
    "plt.ylabel(\"y_true (Actual Label)\")\n",
    "plt.show()\n",
    "\n",
    "print('True negative = ', cmatrix_sigmoid[0][0])\n",
    "print('False positive = ', cmatrix_sigmoid[0][1])\n",
    "print('False negative = ', cmatrix_sigmoid[1][0])\n",
    "print('True positive = ', cmatrix_sigmoid[1][1])\n",
    "\n",
    "from sklearn.metrics import classification_report\n",
    "print(classification_report(y_true,y_pred))\n"
   ]
  },
  {
   "cell_type": "markdown",
   "id": "290e514e",
   "metadata": {},
   "source": [
    "#### cross validation"
   ]
  },
  {
   "cell_type": "code",
   "execution_count": 13,
   "id": "8672902b",
   "metadata": {},
   "outputs": [
    {
     "name": "stdout",
     "output_type": "stream",
     "text": [
      "Cv:5, Test Score: [0.72727273 0.70454545 0.71590909 0.73142857 0.78285714]\n",
      "Cv:5, Train Score: [0.73646724 0.73646724 0.73504274 0.72403983 0.7083926 ]\n",
      "Accuracy: 0.73 (+/- 0.05)\n",
      "F1 Score :  [0.71764706 0.70454545 0.70930233 0.71165644 0.77906977]\n",
      "Negative Mean Squared Error:  [-0.27272727 -0.29545455 -0.28409091 -0.26857143 -0.21714286]\n",
      "Cv = 5, recall =  [0.69318182 0.70454545 0.69318182 0.66666667 0.76136364]\n",
      "Cv = 5, precision =  [0.74390244 0.70454545 0.72619048 0.76315789 0.79761905]\n"
     ]
    }
   ],
   "source": [
    "# cross validation\n",
    "\n",
    "sigmoid_svc = SVC(C=0.046415888336127795,kernel='sigmoid',gamma=0.1)\n",
    "sigmoid_svc.fit(X,y)\n",
    "sigmoid_svc_result = cross_validate(sigmoid_svc,X, y, cv=5,scoring='accuracy',return_train_score=True)\n",
    "print(\"Cv:5, Test Score: {}\".format(sigmoid_svc_result['test_score']))\n",
    "print(\"Cv:5, Train Score: {}\".format(sigmoid_svc_result['train_score']))\n",
    "\n",
    "\n",
    "accuracy = cross_val_score(sigmoid_svc,X,y,cv=5)\n",
    "print(\"Accuracy: %0.2f (+/- %0.2f)\" % (accuracy.mean(),accuracy.std() * 2))\n",
    "f1 = cross_val_score(sigmoid_svc,X,y,cv=5,scoring='f1')\n",
    "print('F1 Score : ',f1)\n",
    "\n",
    "mse = cross_val_score(sigmoid_svc,X,y,cv=5,scoring='neg_mean_squared_error')\n",
    "print('Negative Mean Squared Error: ', mse)\n",
    "print(\"Cv = 5, recall = \",cross_val_score(sigmoid_svc, X, y, scoring='recall'))\n",
    "print(\"Cv = 5, precision = \",cross_val_score(sigmoid_svc, X, y, scoring='precision'))"
   ]
  },
  {
   "cell_type": "code",
   "execution_count": 14,
   "id": "9e260ffa",
   "metadata": {},
   "outputs": [
    {
     "data": {
      "image/png": "[encoded data removed]",
      "text/plain": [
       "<Figure size 432x288 with 1 Axes>"
      ]
     },
     "metadata": {
      "needs_background": "light"
     },
     "output_type": "display_data"
    }
   ],
   "source": [
    "# roc curve of train and test accuracy\n",
    "\n",
    "from sklearn import svm\n",
    "from sklearn.model_selection import GridSearchCV  \n",
    "from sklearn.metrics import roc_curve, auc\n",
    "from sklearn.multiclass import OneVsRestClassifier\n",
    "\n",
    "np.random.seed(0)\n",
    "\n",
    "random_state = np.random.RandomState(0)\n",
    "classifier = OneVsRestClassifier(svm.SVC(kernel='sigmoid', probability=True,\n",
    "                                 random_state=random_state))\n",
    "classifier.fit(X_train, y_train)\n",
    "\n",
    "y_train_pred = classifier.decision_function(X_train)    \n",
    "y_test_pred = classifier.decision_function(X_test) \n",
    "\n",
    "train_fpr, train_tpr, tr_thresholds = roc_curve(y_train, y_train_pred)\n",
    "test_fpr, test_tpr, te_thresholds = roc_curve(y_test, y_test_pred)\n",
    "\n",
    "plt.grid()\n",
    "\n",
    "plt.plot(train_fpr, train_tpr, label=\" AUC TRAIN =\"+str(auc(train_fpr, train_tpr)))\n",
    "plt.plot(test_fpr, test_tpr, label=\" AUC TEST =\"+str(auc(test_fpr, test_tpr)))\n",
    "plt.plot([0,1],[0,1],'g--')\n",
    "plt.legend()\n",
    "plt.xlabel(\"False Positive Rate\")\n",
    "plt.ylabel(\"True Positive Rate\")\n",
    "plt.title(\"AUC(ROC curve)\")\n",
    "plt.grid(color='black', linestyle='-', linewidth=0.5)\n",
    "plt.show()\n",
    "#when AUC is 0.5-1, high chance that classifier is able to distinguish positive class valuces from negative class (detect more true positive and true negative)"
   ]
  }
 ],
 "metadata": {
  "kernelspec": {
   "display_name": "Python 3 (ipykernel)",
   "language": "python",
   "name": "python3"
  },
  "language_info": {
   "codemirror_mode": {
    "name": "ipython",
    "version": 3
   },
   "file_extension": ".py",
   "mimetype": "text/x-python",
   "name": "python",
   "nbconvert_exporter": "python",
   "pygments_lexer": "ipython3",
   "version": "3.9.12"
  }
 },
 "nbformat": 4,
 "nbformat_minor": 5
}
